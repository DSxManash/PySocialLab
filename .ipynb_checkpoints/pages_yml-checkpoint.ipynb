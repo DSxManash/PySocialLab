{
 "cells": [
  {
   "cell_type": "code",
   "execution_count": 1,
   "id": "a1124dcc-560b-4d54-8b38-29932778e7a7",
   "metadata": {},
   "outputs": [],
   "source": [
    "import json"
   ]
  },
  {
   "cell_type": "code",
   "execution_count": 2,
   "id": "a588de11-9b96-4253-a91d-2ddba280b684",
   "metadata": {},
   "outputs": [],
   "source": [
    "#Function to load the JSON data\n",
    "def load_data(filename):\n",
    "    with open(filename,\"r\") as f:\n",
    "        return json.load(f)"
   ]
  },
  {
   "cell_type": "code",
   "execution_count": 3,
   "id": "d05f44b1-5c18-4ebb-bc31-e280a986f347",
   "metadata": {},
   "outputs": [],
   "source": [
    "#Function to find pages a user might like based on common interests\n",
    "def find_pages_yml(user_id,data):\n",
    "    # Dictionary to store user interactions with pages\n",
    "    user_pages = {}\n",
    "    for user in data['users']:\n",
    "        user_pages[user['id']] = set(user['liked_pages'])\n",
    "    #If the user is not found, return empty list\n",
    "    if user_id not in user_pages:\n",
    "        return []\n",
    "    user_liked_pages = user_pages[user_id]\n",
    "    page_suggestions = {}\n",
    "    for other_user, pages in user_pages.items():\n",
    "        if other_user != user_id:\n",
    "            shared_pages = user_liked_pages.intersection(pages)\n",
    "        for page in pages:\n",
    "            if page not in user_liked_pages:\n",
    "                page_suggestions[page] = page_suggestions.get('get',0)+len(shared_pages)\n",
    "\n",
    "    sorted_pages = sorted(page_suggestions.items(), key=lambda x:x[1],reverse=True)\n",
    "    return [(page_id,score) for page_id, score in sorted_pages]\n"
   ]
  },
  {
   "cell_type": "code",
   "execution_count": 4,
   "id": "3a63209a-641c-47f3-b0c7-20f8da70ad09",
   "metadata": {},
   "outputs": [
    {
     "name": "stdout",
     "output_type": "stream",
     "text": [
      "[(103, 0), (104, 0), (105, 0), (106, 0), (107, 0), (108, 0), (109, 0), (110, 0), (111, 0), (112, 0), (113, 0), (114, 0), (115, 0), (116, 0), (117, 0), (118, 0), (119, 0), (120, 0), (121, 0), (122, 0), (123, 0), (124, 0), (125, 0), (126, 0), (127, 0)]\n"
     ]
    }
   ],
   "source": [
    "data = load_data('massive_data.json')\n",
    "user_id = 1\n",
    "page_recommendation = find_pages_yml(user_id,data)\n",
    "print(page_recommendation)"
   ]
  }
 ],
 "metadata": {
  "kernelspec": {
   "display_name": "Python 3 (ipykernel)",
   "language": "python",
   "name": "python3"
  },
  "language_info": {
   "codemirror_mode": {
    "name": "ipython",
    "version": 3
   },
   "file_extension": ".py",
   "mimetype": "text/x-python",
   "name": "python",
   "nbconvert_exporter": "python",
   "pygments_lexer": "ipython3",
   "version": "3.12.7"
  }
 },
 "nbformat": 4,
 "nbformat_minor": 5
}
